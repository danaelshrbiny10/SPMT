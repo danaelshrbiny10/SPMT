{
  "nbformat": 4,
  "nbformat_minor": 0,
  "metadata": {
    "colab": {
      "provenance": []
    },
    "kernelspec": {
      "name": "python3",
      "display_name": "Python 3"
    },
    "language_info": {
      "name": "python"
    }
  },
  "cells": [
    {
      "cell_type": "code",
      "execution_count": 1,
      "metadata": {
        "id": "Ykag3jEtjQyQ"
      },
      "outputs": [],
      "source": [
        "import pandas as pd "
      ]
    },
    {
      "cell_type": "code",
      "source": [
        "data = pd.read_csv(\"/content/SPMT.csv\")\n",
        "print(data.head)"
      ],
      "metadata": {
        "colab": {
          "base_uri": "https://localhost:8080/"
        },
        "id": "4b7ltKPsjZxM",
        "outputId": "13d812ed-238e-46b4-afd5-04f93cd8a82f"
      },
      "execution_count": 4,
      "outputs": [
        {
          "output_type": "stream",
          "name": "stdout",
          "text": [
            "<bound method NDFrame.head of      Roll No         Tool 1              Tool 2              Tool 3  \\\n",
            "0   20BCM001         Nifty   Microsoft Project            ProofHub    \n",
            "1   20BCM003     trello.com          Monday.com  microsoft project    \n",
            "2   20BCM004      ProofHub           Monday.com                Zoho   \n",
            "3   20BCM007         Trello               Asana               Wrike   \n",
            "4   20BCM008         TRELLO          filestage             WORKZONE   \n",
            "..       ...            ...                 ...                 ...   \n",
            "75  20BCM088   FUNCTION FOX              TRELLO      LIQUID PLANNER   \n",
            "76  20BCM089           Jira               Asana            Basecamp   \n",
            "77  20BCM090  GitHub Issues                Jira              Trello   \n",
            "78  20BCM091      ProofHub                nTask       Zoho Projects   \n",
            "79  20BCM036      Proofhub             Teamwave           Filestage   \n",
            "\n",
            "   Final Selected Tool  Unnamed: 5  \n",
            "0    Microsoft Project         NaN  \n",
            "1            Monday.com        NaN  \n",
            "2             ProofHub         NaN  \n",
            "3                Trello        NaN  \n",
            "4                TRELLO        NaN  \n",
            "..                  ...        ...  \n",
            "75               TRELLO        NaN  \n",
            "76                Asana        NaN  \n",
            "77        GitHub Issues        NaN  \n",
            "78             ProofHub        NaN  \n",
            "79            Proofhub         NaN  \n",
            "\n",
            "[80 rows x 6 columns]>\n"
          ]
        }
      ]
    },
    {
      "cell_type": "code",
      "source": [
        "features = data.iloc[:,0:4]\n",
        "print(features)"
      ],
      "metadata": {
        "colab": {
          "base_uri": "https://localhost:8080/"
        },
        "id": "HToEbx_7jirG",
        "outputId": "9e67c60b-415a-4c5b-d18f-e92ce9f08583"
      },
      "execution_count": 11,
      "outputs": [
        {
          "output_type": "stream",
          "name": "stdout",
          "text": [
            "     Roll No         Tool 1              Tool 2              Tool 3\n",
            "0   20BCM001         Nifty   Microsoft Project            ProofHub \n",
            "1   20BCM003     trello.com          Monday.com  microsoft project \n",
            "2   20BCM004      ProofHub           Monday.com                Zoho\n",
            "3   20BCM007         Trello               Asana               Wrike\n",
            "4   20BCM008         TRELLO          filestage             WORKZONE\n",
            "..       ...            ...                 ...                 ...\n",
            "75  20BCM088   FUNCTION FOX              TRELLO      LIQUID PLANNER\n",
            "76  20BCM089           Jira               Asana            Basecamp\n",
            "77  20BCM090  GitHub Issues                Jira              Trello\n",
            "78  20BCM091      ProofHub                nTask       Zoho Projects\n",
            "79  20BCM036      Proofhub             Teamwave           Filestage\n",
            "\n",
            "[80 rows x 4 columns]\n"
          ]
        }
      ]
    },
    {
      "cell_type": "code",
      "source": [
        "features = pd.get_dummies(features)\n",
        "print(features)"
      ],
      "metadata": {
        "colab": {
          "base_uri": "https://localhost:8080/"
        },
        "id": "vhSYLDhbj94t",
        "outputId": "a0676777-22fe-4177-e3d6-b769684bfe35"
      },
      "execution_count": 12,
      "outputs": [
        {
          "output_type": "stream",
          "name": "stdout",
          "text": [
            "    Roll No_20BCM001  Roll No_20BCM003  Roll No_20BCM004  Roll No_20BCM007  \\\n",
            "0                  1                 0                 0                 0   \n",
            "1                  0                 1                 0                 0   \n",
            "2                  0                 0                 1                 0   \n",
            "3                  0                 0                 0                 1   \n",
            "4                  0                 0                 0                 0   \n",
            "..               ...               ...               ...               ...   \n",
            "75                 0                 0                 0                 0   \n",
            "76                 0                 0                 0                 0   \n",
            "77                 0                 0                 0                 0   \n",
            "78                 0                 0                 0                 0   \n",
            "79                 0                 0                 0                 0   \n",
            "\n",
            "    Roll No_20BCM008  Roll No_20BCM009  Roll No_20BCM010  Roll No_20BCM011  \\\n",
            "0                  0                 0                 0                 0   \n",
            "1                  0                 0                 0                 0   \n",
            "2                  0                 0                 0                 0   \n",
            "3                  0                 0                 0                 0   \n",
            "4                  1                 0                 0                 0   \n",
            "..               ...               ...               ...               ...   \n",
            "75                 0                 0                 0                 0   \n",
            "76                 0                 0                 0                 0   \n",
            "77                 0                 0                 0                 0   \n",
            "78                 0                 0                 0                 0   \n",
            "79                 0                 0                 0                 0   \n",
            "\n",
            "    Roll No_20BCM012  Roll No_20BCM013  ...  Tool 3_Zoho Projects  \\\n",
            "0                  0                 0  ...                     0   \n",
            "1                  0                 0  ...                     0   \n",
            "2                  0                 0  ...                     0   \n",
            "3                  0                 0  ...                     0   \n",
            "4                  0                 0  ...                     0   \n",
            "..               ...               ...  ...                   ...   \n",
            "75                 0                 0  ...                     0   \n",
            "76                 0                 0  ...                     0   \n",
            "77                 0                 0  ...                     0   \n",
            "78                 0                 0  ...                     1   \n",
            "79                 0                 0  ...                     0   \n",
            "\n",
            "    Tool 3_Zoho projects  Tool 3_basecamp  Tool 3_clickup  \\\n",
            "0                      0                0               0   \n",
            "1                      0                0               0   \n",
            "2                      0                0               0   \n",
            "3                      0                0               0   \n",
            "4                      0                0               0   \n",
            "..                   ...              ...             ...   \n",
            "75                     0                0               0   \n",
            "76                     0                0               0   \n",
            "77                     0                0               0   \n",
            "78                     0                0               0   \n",
            "79                     0                0               0   \n",
            "\n",
            "    Tool 3_microsoft project  Tool 3_microsoft project   Tool 3_monday.com  \\\n",
            "0                          0                          0                  0   \n",
            "1                          0                          1                  0   \n",
            "2                          0                          0                  0   \n",
            "3                          0                          0                  0   \n",
            "4                          0                          0                  0   \n",
            "..                       ...                        ...                ...   \n",
            "75                         0                          0                  0   \n",
            "76                         0                          0                  0   \n",
            "77                         0                          0                  0   \n",
            "78                         0                          0                  0   \n",
            "79                         0                          0                  0   \n",
            "\n",
            "    Tool 3_nTask  Tool 3_proofhub  Tool 3_proprofs project  \n",
            "0              0                0                        0  \n",
            "1              0                0                        0  \n",
            "2              0                0                        0  \n",
            "3              0                0                        0  \n",
            "4              0                0                        0  \n",
            "..           ...              ...                      ...  \n",
            "75             0                0                        0  \n",
            "76             0                0                        0  \n",
            "77             0                0                        0  \n",
            "78             0                0                        0  \n",
            "79             0                0                        0  \n",
            "\n",
            "[80 rows x 209 columns]\n"
          ]
        }
      ]
    },
    {
      "cell_type": "code",
      "source": [
        "from sklearn.impute import SimpleImputer\n",
        "imputer = SimpleImputer()\n",
        "features = imputer.fit_transform(features)\n",
        "print(features)"
      ],
      "metadata": {
        "colab": {
          "base_uri": "https://localhost:8080/"
        },
        "id": "iIFd9zoqkM0E",
        "outputId": "e8ed4296-521c-4b29-e8c9-b0aed0ec6289"
      },
      "execution_count": 14,
      "outputs": [
        {
          "output_type": "stream",
          "name": "stdout",
          "text": [
            "[[1. 0. 0. ... 0. 0. 0.]\n",
            " [0. 1. 0. ... 0. 0. 0.]\n",
            " [0. 0. 1. ... 0. 0. 0.]\n",
            " ...\n",
            " [0. 0. 0. ... 0. 0. 0.]\n",
            " [0. 0. 0. ... 0. 0. 0.]\n",
            " [0. 0. 0. ... 0. 0. 0.]]\n"
          ]
        }
      ]
    }
  ]
}